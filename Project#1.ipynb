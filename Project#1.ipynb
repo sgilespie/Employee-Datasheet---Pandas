{
 "cells": [
  {
   "cell_type": "code",
   "execution_count": 1,
   "id": "2b185d85",
   "metadata": {},
   "outputs": [],
   "source": [
    "import numpy as np "
   ]
  },
  {
   "cell_type": "code",
   "execution_count": 2,
   "id": "1f7f5c98",
   "metadata": {},
   "outputs": [],
   "source": [
    "import pandas as pd "
   ]
  },
  {
   "cell_type": "code",
   "execution_count": 3,
   "id": "15dae4d5",
   "metadata": {},
   "outputs": [],
   "source": [
    "from datetime import date, timedelta "
   ]
  },
  {
   "cell_type": "code",
   "execution_count": 4,
   "id": "6aed70cf",
   "metadata": {},
   "outputs": [],
   "source": [
    "start_date,end_date = date(2020, 12, 1), date(2022,12,1)"
   ]
  },
  {
   "cell_type": "code",
   "execution_count": 5,
   "id": "255b1e66",
   "metadata": {},
   "outputs": [],
   "source": [
    "date_range = pd.date_range(start_date,end_date - timedelta(days = 1), freq=\"d\")"
   ]
  },
  {
   "cell_type": "code",
   "execution_count": 29,
   "id": "ae9c4e3a",
   "metadata": {},
   "outputs": [],
   "source": [
    "rate = {\"Satisfaction of Company\": [1,2,3,4,5,6,7,8,9,10]}"
   ]
  },
  {
   "cell_type": "code",
   "execution_count": 30,
   "id": "47945969",
   "metadata": {},
   "outputs": [],
   "source": [
    "df = pd.DataFrame(rate)"
   ]
  },
  {
   "cell_type": "code",
   "execution_count": 31,
   "id": "80df3600",
   "metadata": {},
   "outputs": [],
   "source": [
    "df.loc[df[\"Satisfaction of Company\"] <= 5, \"Below satisfied\"] = \"Yes-0\"\n",
    "df.loc[df[\"Satisfaction of Company\"] > 5, \"Satisfied\"] = \"Yes-1\""
   ]
  },
  {
   "cell_type": "code",
   "execution_count": 32,
   "id": "84ab37df",
   "metadata": {},
   "outputs": [
    {
     "name": "stdout",
     "output_type": "stream",
     "text": [
      "   Satisfaction of Company Below satisfied Satisfied\n",
      "0                        1           Yes-0       NaN\n",
      "1                        2           Yes-0       NaN\n",
      "2                        3           Yes-0       NaN\n",
      "3                        4           Yes-0       NaN\n",
      "4                        5           Yes-0       NaN\n",
      "5                        6             NaN     Yes-1\n",
      "6                        7             NaN     Yes-1\n",
      "7                        8             NaN     Yes-1\n",
      "8                        9             NaN     Yes-1\n",
      "9                       10             NaN     Yes-1\n"
     ]
    }
   ],
   "source": [
    "print(df)"
   ]
  },
  {
   "cell_type": "code",
   "execution_count": 33,
   "id": "3ec15f7f",
   "metadata": {},
   "outputs": [],
   "source": [
    "mean = df[\"Satisfaction of Company\"].sum()"
   ]
  },
  {
   "cell_type": "code",
   "execution_count": 34,
   "id": "62bc158e",
   "metadata": {},
   "outputs": [
    {
     "data": {
      "text/plain": [
       "5.5"
      ]
     },
     "execution_count": 34,
     "metadata": {},
     "output_type": "execute_result"
    }
   ],
   "source": [
    "mean/10"
   ]
  },
  {
   "cell_type": "code",
   "execution_count": 35,
   "id": "03b41129",
   "metadata": {},
   "outputs": [],
   "source": [
    "results = {\"Satisfaction of Company Results\": [0,1,1,0,1,0,1,0,1,1]}"
   ]
  },
  {
   "cell_type": "code",
   "execution_count": 36,
   "id": "f5459338",
   "metadata": {},
   "outputs": [],
   "source": [
    "data = pd.DataFrame(results)"
   ]
  },
  {
   "cell_type": "code",
   "execution_count": 37,
   "id": "4948b3a6",
   "metadata": {},
   "outputs": [],
   "source": [
    "data.loc[data[\"Satisfaction of Company Results\"] == 1, \"Result\"] = \"Satisfied\""
   ]
  },
  {
   "cell_type": "code",
   "execution_count": 38,
   "id": "c8cf418a",
   "metadata": {},
   "outputs": [],
   "source": [
    "data.loc[data[\"Satisfaction of Company Results\"] == 0, \"Result\"] = \"Below Satisfied\""
   ]
  },
  {
   "cell_type": "code",
   "execution_count": 39,
   "id": "2ef1eb84",
   "metadata": {},
   "outputs": [
    {
     "name": "stdout",
     "output_type": "stream",
     "text": [
      "   Satisfaction of Company Results           Result\n",
      "0                                0  Below Satisfied\n",
      "1                                1        Satisfied\n",
      "2                                1        Satisfied\n",
      "3                                0  Below Satisfied\n",
      "4                                1        Satisfied\n",
      "5                                0  Below Satisfied\n",
      "6                                1        Satisfied\n",
      "7                                0  Below Satisfied\n",
      "8                                1        Satisfied\n",
      "9                                1        Satisfied\n"
     ]
    }
   ],
   "source": [
    "print(data)"
   ]
  },
  {
   "cell_type": "code",
   "execution_count": 40,
   "id": "401a50b1",
   "metadata": {},
   "outputs": [],
   "source": [
    "median = data.iloc[4]"
   ]
  },
  {
   "cell_type": "code",
   "execution_count": 41,
   "id": "15fc6b0d",
   "metadata": {},
   "outputs": [
    {
     "name": "stdout",
     "output_type": "stream",
     "text": [
      "Satisfaction of Company Results            1\n",
      "Result                             Satisfied\n",
      "Name: 4, dtype: object\n"
     ]
    }
   ],
   "source": [
    "print(median)"
   ]
  },
  {
   "cell_type": "code",
   "execution_count": 42,
   "id": "2bba931c",
   "metadata": {},
   "outputs": [
    {
     "data": {
      "text/html": [
       "<div>\n",
       "<style scoped>\n",
       "    .dataframe tbody tr th:only-of-type {\n",
       "        vertical-align: middle;\n",
       "    }\n",
       "\n",
       "    .dataframe tbody tr th {\n",
       "        vertical-align: top;\n",
       "    }\n",
       "\n",
       "    .dataframe thead th {\n",
       "        text-align: right;\n",
       "    }\n",
       "</style>\n",
       "<table border=\"1\" class=\"dataframe\">\n",
       "  <thead>\n",
       "    <tr style=\"text-align: right;\">\n",
       "      <th></th>\n",
       "      <th>Satisfaction of Company Results</th>\n",
       "      <th>Result</th>\n",
       "    </tr>\n",
       "  </thead>\n",
       "  <tbody>\n",
       "    <tr>\n",
       "      <th>1</th>\n",
       "      <td>1</td>\n",
       "      <td>Satisfied</td>\n",
       "    </tr>\n",
       "    <tr>\n",
       "      <th>2</th>\n",
       "      <td>1</td>\n",
       "      <td>Satisfied</td>\n",
       "    </tr>\n",
       "    <tr>\n",
       "      <th>4</th>\n",
       "      <td>1</td>\n",
       "      <td>Satisfied</td>\n",
       "    </tr>\n",
       "    <tr>\n",
       "      <th>6</th>\n",
       "      <td>1</td>\n",
       "      <td>Satisfied</td>\n",
       "    </tr>\n",
       "    <tr>\n",
       "      <th>8</th>\n",
       "      <td>1</td>\n",
       "      <td>Satisfied</td>\n",
       "    </tr>\n",
       "    <tr>\n",
       "      <th>9</th>\n",
       "      <td>1</td>\n",
       "      <td>Satisfied</td>\n",
       "    </tr>\n",
       "  </tbody>\n",
       "</table>\n",
       "</div>"
      ],
      "text/plain": [
       "   Satisfaction of Company Results     Result\n",
       "1                                1  Satisfied\n",
       "2                                1  Satisfied\n",
       "4                                1  Satisfied\n",
       "6                                1  Satisfied\n",
       "8                                1  Satisfied\n",
       "9                                1  Satisfied"
      ]
     },
     "execution_count": 42,
     "metadata": {},
     "output_type": "execute_result"
    }
   ],
   "source": [
    "data.loc[data[\"Satisfaction of Company Results\"] == 1] "
   ]
  },
  {
   "cell_type": "code",
   "execution_count": 43,
   "id": "ab83ca7f",
   "metadata": {},
   "outputs": [],
   "source": [
    "mode_display = {\"Mode\": [1,1,1,1,1,1]}"
   ]
  },
  {
   "cell_type": "code",
   "execution_count": 44,
   "id": "bef44617",
   "metadata": {},
   "outputs": [],
   "source": [
    "mode = pd.DataFrame(mode_display)"
   ]
  },
  {
   "cell_type": "code",
   "execution_count": 45,
   "id": "bb807085",
   "metadata": {},
   "outputs": [
    {
     "name": "stdout",
     "output_type": "stream",
     "text": [
      "Mode    6\n",
      "dtype: int64\n"
     ]
    }
   ],
   "source": [
    "print(mode.count())"
   ]
  },
  {
   "cell_type": "code",
   "execution_count": 23,
   "id": "1e5851b9",
   "metadata": {},
   "outputs": [
    {
     "data": {
      "text/plain": [
       "{'emp_fname': ['John', 'Suzie', 'Mary', 'Bob', 'Tyler'],\n",
       " 'emp_lname': ['Smith', 'Anderson', 'Stewart', 'Myers', 'Frederick'],\n",
       " 'emp_title': ['Computer Engineer',\n",
       "  'Architect',\n",
       "  'Musician',\n",
       "  'Lawyer',\n",
       "  'Doctor'],\n",
       " 'emp_salary': ['100,000', '90,000', '40,000', '80,000', '200,000'],\n",
       " 'emp_dates': DatetimeIndex(['2020-12-01', '2020-12-02', '2020-12-03', '2020-12-04',\n",
       "                '2020-12-05', '2020-12-06', '2020-12-07', '2020-12-08',\n",
       "                '2020-12-09', '2020-12-10',\n",
       "                ...\n",
       "                '2022-11-21', '2022-11-22', '2022-11-23', '2022-11-24',\n",
       "                '2022-11-25', '2022-11-26', '2022-11-27', '2022-11-28',\n",
       "                '2022-11-29', '2022-11-30'],\n",
       "               dtype='datetime64[ns]', length=730, freq='D')}"
      ]
     },
     "execution_count": 23,
     "metadata": {},
     "output_type": "execute_result"
    }
   ],
   "source": [
    "df1 = pd.DataFrame\n",
    "(\n",
    "    {\n",
    "      \"emp_fname\": [\"John\", \"Suzie\", \"Mary\", \"Bob\", \"Tyler\"],\n",
    "      \"emp_lname\": [\"Smith\", \"Anderson\", \"Stewart\", \"Myers\",\"Frederick\"],\n",
    "      \"emp_title\": [\"Computer Engineer\", \"Architect\", \"Musician\", \"Lawyer\", \"Doctor\"],\n",
    "      \"emp_salary\": [\"100,000\", \"90,000\", \"40,000\", \"80,000\", \"200,000\"], \n",
    "      \"emp_dates\": date_range\n",
    "      \n",
    "      \n",
    "       }\n",
    "\n",
    ")"
   ]
  },
  {
   "cell_type": "code",
   "execution_count": 24,
   "id": "cd613962",
   "metadata": {},
   "outputs": [
    {
     "data": {
      "text/plain": [
       "{'emp_fname2': ['Mary', 'Lily', 'Chad', 'Georgia', 'Tom'],\n",
       " 'emp_lname2': ['Daniels', 'Adams', 'Johnson', 'Williams', 'Green'],\n",
       " 'emp_title2': ['Business Manager',\n",
       "  'Sales',\n",
       "  'Marketing Assistant',\n",
       "  'Artist',\n",
       "  'Journalist'],\n",
       " 'emp_salary2': ['60,000', '50,000', '55,000', '65,000', '70,000'],\n",
       " 'emp_dates2': DatetimeIndex(['2020-12-01', '2020-12-02', '2020-12-03', '2020-12-04',\n",
       "                '2020-12-05', '2020-12-06', '2020-12-07', '2020-12-08',\n",
       "                '2020-12-09', '2020-12-10',\n",
       "                ...\n",
       "                '2022-11-21', '2022-11-22', '2022-11-23', '2022-11-24',\n",
       "                '2022-11-25', '2022-11-26', '2022-11-27', '2022-11-28',\n",
       "                '2022-11-29', '2022-11-30'],\n",
       "               dtype='datetime64[ns]', length=730, freq='D')}"
      ]
     },
     "execution_count": 24,
     "metadata": {},
     "output_type": "execute_result"
    }
   ],
   "source": [
    "df2 = pd.DataFrame\n",
    "(\n",
    "{\n",
    "    \"emp_fname2\": [\"Mary\", \"Lily\", \"Chad\", \"Georgia\",\"Tom\"], \n",
    "    \"emp_lname2\": [\"Daniels\", \"Adams\", \"Johnson\", \"Williams\",\"Green\"], \n",
    "    \"emp_title2\": [\"Business Manager\", \"Sales\", \"Marketing Assistant\", \"Artist\",\"Journalist\"],\n",
    "    \"emp_salary2\": [\"60,000\", \"50,000\", \"55,000\", \"65,000\",\"70,000\"], \n",
    "    \"emp_dates2\": date_range,\n",
    "    \n",
    "}\n",
    "    \n",
    ")"
   ]
  },
  {
   "cell_type": "code",
   "execution_count": null,
   "id": "97a34d4c",
   "metadata": {},
   "outputs": [],
   "source": []
  }
 ],
 "metadata": {
  "kernelspec": {
   "display_name": "Python 3.10.6 64-bit",
   "language": "python",
   "name": "python3"
  },
  "language_info": {
   "codemirror_mode": {
    "name": "ipython",
    "version": 3
   },
   "file_extension": ".py",
   "mimetype": "text/x-python",
   "name": "python",
   "nbconvert_exporter": "python",
   "pygments_lexer": "ipython3",
   "version": "3.10.6"
  },
  "vscode": {
   "interpreter": {
    "hash": "26de051ba29f2982a8de78e945f0abaf191376122a1563185a90213a26c5da77"
   }
  }
 },
 "nbformat": 4,
 "nbformat_minor": 5
}
